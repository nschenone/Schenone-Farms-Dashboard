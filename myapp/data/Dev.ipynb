{
 "cells": [
  {
   "cell_type": "code",
   "execution_count": 8,
   "metadata": {},
   "outputs": [],
   "source": [
    "import pandas as pd\n",
    "import matplotlib.pyplot as plt\n",
    "import plotly.graph_objs as go\n",
    "import chart_studio.plotly as py\n",
    "import plotly\n",
    "from plotly.offline import *"
   ]
  },
  {
   "cell_type": "code",
   "execution_count": 2,
   "metadata": {},
   "outputs": [],
   "source": [
    "# Read CSV\n",
    "df = pd.read_csv(\"Sample.csv\")\n",
    "\n",
    "# Set column datatypes\n",
    "df['Date'] =  pd.to_datetime(df['Date'])\n",
    "df['Field Tag'] =  pd.to_numeric(df['Field Tag'])\n",
    "df['Receiving Tag'] =  pd.to_numeric(df['Receiving Tag'])\n",
    "df['Lot'] =  pd.to_numeric(df['Lot'])\n",
    "df['Bins Received'] =  pd.to_numeric(df['Bins Received'])\n",
    "df['Bucket Price'] =  pd.to_numeric([i.strip()[1:] for i in df['Bucket Price']])\n",
    "df['Bucket Weight'] =  pd.to_numeric(df['Bucket Weight'])\n",
    "df['Price/Lb For Picker'] =  pd.to_numeric(df['Price/Lb For Picker'])\n",
    "df['Charge w 40%'] =  pd.to_numeric(df['Charge w 40%'])\n",
    "df['Weight (Dumped) By Field Tag'] =  pd.to_numeric([i.replace(\",\", \"\") for i in df['Weight (Dumped) By Field Tag']])\n",
    "df['Picking Charge'] =  pd.to_numeric([i.strip()[1:].replace(\",\", \"\") for i in df['Picking Charge']])\n",
    "df['Crew Cost (Per Lb)'] =  pd.to_numeric([i.strip()[1:] for i in df['Crew Cost (Per Lb)']])\n",
    "df['Crew Cost (Subtotal)'] =  pd.to_numeric([i.strip()[1:] for i in df['Crew Cost (Subtotal)']])"
   ]
  },
  {
   "cell_type": "code",
   "execution_count": 3,
   "metadata": {},
   "outputs": [
    {
     "name": "stderr",
     "output_type": "stream",
     "text": [
      "/usr/local/lib/python3.7/site-packages/pandas/plotting/_matplotlib/converter.py:103: FutureWarning:\n",
      "\n",
      "Using an implicitly registered datetime converter for a matplotlib plotting method. The converter was registered by pandas on import. Future versions of pandas will require you to explicitly register matplotlib converters.\n",
      "\n",
      "To register the converters:\n",
      "\t>>> from pandas.plotting import register_matplotlib_converters\n",
      "\t>>> register_matplotlib_converters()\n",
      "\n"
     ]
    },
    {
     "data": {
      "text/plain": [
       "(array([737553., 737554., 737555., 737556., 737557., 737558., 737559.,\n",
       "        737560., 737561., 737562.]), <a list of 10 Text xticklabel objects>)"
      ]
     },
     "execution_count": 3,
     "metadata": {},
     "output_type": "execute_result"
    },
    {
     "data": {
      "image/png": "[encoded data removed]",
      "text/plain": [
       "<Figure size 432x288 with 1 Axes>"
      ]
     },
     "metadata": {
      "needs_background": "light"
     },
     "output_type": "display_data"
    }
   ],
   "source": [
    "df_query = df[df[\"Variety\"] == \"Coral\"]\n",
    "plt.plot(df_query['Date'], df_query[\"Crew Cost (Subtotal)\"])\n",
    "plt.xticks(rotation=45)"
   ]
  },
  {
   "cell_type": "code",
   "execution_count": 4,
   "metadata": {},
   "outputs": [],
   "source": [
    "graph_one = []    \n",
    "graph_one.append(\n",
    "  go.Scatter(\n",
    "  x = [0, 1, 2, 3, 4, 5],\n",
    "  y = [0, 2, 4, 6, 8, 10],\n",
    "  mode = 'lines'\n",
    ")\n",
    ")\n",
    "\n",
    "layout_one = dict(title = 'Chart One',\n",
    "            xaxis = dict(title = 'x-axis label'),\n",
    "            yaxis = dict(title = 'y-axis label'),\n",
    ")"
   ]
  },
  {
   "cell_type": "code",
   "execution_count": 5,
   "metadata": {},
   "outputs": [],
   "source": [
    "fig = dict(data=graph_one, layout=layout_one)"
   ]
  },
  {
   "cell_type": "code",
   "execution_count": 14,
   "metadata": {},
   "outputs": [],
   "source": [
    "# py.iplot(fig, filename=\"jupyter-test\")"
   ]
  },
  {
   "cell_type": "code",
   "execution_count": null,
   "metadata": {},
   "outputs": [],
   "source": []
  }
 ],
 "metadata": {
  "kernelspec": {
   "display_name": "Python 3",
   "language": "python",
   "name": "python3"
  },
  "language_info": {
   "codemirror_mode": {
    "name": "ipython",
    "version": 3
   },
   "file_extension": ".py",
   "mimetype": "text/x-python",
   "name": "python",
   "nbconvert_exporter": "python",
   "pygments_lexer": "ipython3",
   "version": "3.7.6"
  }
 },
 "nbformat": 4,
 "nbformat_minor": 4
}
